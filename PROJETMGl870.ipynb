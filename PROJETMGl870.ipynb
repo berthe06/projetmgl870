{
  "cells": [
    {
      "cell_type": "markdown",
      "metadata": {
        "id": "view-in-github",
        "colab_type": "text"
      },
      "source": [
        "<a href=\"https://colab.research.google.com/github/berthe06/projetmgl870/blob/main/PROJETMGl870.ipynb\" target=\"_parent\"><img src=\"https://colab.research.google.com/assets/colab-badge.svg\" alt=\"Open In Colab\"/></a>"
      ]
    },
    {
      "cell_type": "markdown",
      "metadata": {
        "id": "xY_bY-_iw6QQ"
      },
      "source": [
        "# **Partie I: Preparation des données**\n",
        "\n"
      ]
    },
    {
      "cell_type": "code",
      "execution_count": null,
      "metadata": {
        "id": "c8MVQ3hb55o_"
      },
      "outputs": [],
      "source": [
        "from google.colab import drive"
      ]
    },
    {
      "cell_type": "code",
      "execution_count": null,
      "metadata": {
        "colab": {
          "base_uri": "https://localhost:8080/"
        },
        "id": "toxC_0Tk6DCF",
        "outputId": "6b92487f-20b2-4b1d-8f5b-7ea077c054e2"
      },
      "outputs": [
        {
          "output_type": "stream",
          "name": "stdout",
          "text": [
            "Mounted at /content/drive\n"
          ]
        }
      ],
      "source": [
        "drive.mount(\"/content/drive\", force_remount=True)"
      ]
    },
    {
      "cell_type": "code",
      "execution_count": null,
      "metadata": {
        "colab": {
          "base_uri": "https://localhost:8080/",
          "height": 206
        },
        "id": "zBSoKusH6JaU",
        "outputId": "b366c98b-cbdb-43ea-8e9e-335737d44cfe"
      },
      "outputs": [
        {
          "output_type": "execute_result",
          "data": {
            "text/plain": [
              "              DateTime Severity            EpochTime  \\\n",
              "0  2024-12-17 17:32:16     INFO  2024-12-17 17:32:16   \n",
              "1  2024-12-17 17:32:16     INFO  2024-12-17 17:32:16   \n",
              "2  2024-12-17 17:32:16    DEBUG  2024-12-17 17:32:16   \n",
              "3  2024-12-17 17:32:16    DEBUG  2024-12-17 17:32:16   \n",
              "4  2024-12-17 17:32:17     INFO  2024-12-17 17:32:17   \n",
              "\n",
              "                                             Content  UUID EventId  \\\n",
              "0  Starting ProductServiceApplication using Java ...   NaN      E2   \n",
              "1                              No active profile set   NaN      E3   \n",
              "2  Loading source class com.projetmgl870.microser...   NaN      E4   \n",
              "3  Refreshing org.springframework.boot.web.servle...   NaN      E5   \n",
              "4  Bootstrapping Spring Data MongoDB repositories...   NaN      E6   \n",
              "\n",
              "                                       EventTemplate  \n",
              "0  Starting ProductServiceApplication using Java ...  \n",
              "1                              No active profile set  \n",
              "2  Loading source class com.projetmgl870.microser...  \n",
              "3                                     Refreshing <*>  \n",
              "4  Bootstrapping Spring Data MongoDB repositories...  "
            ],
            "text/html": [
              "\n",
              "  <div id=\"df-be5b49f6-f1dc-4786-a536-9956ce4829c0\" class=\"colab-df-container\">\n",
              "    <div>\n",
              "<style scoped>\n",
              "    .dataframe tbody tr th:only-of-type {\n",
              "        vertical-align: middle;\n",
              "    }\n",
              "\n",
              "    .dataframe tbody tr th {\n",
              "        vertical-align: top;\n",
              "    }\n",
              "\n",
              "    .dataframe thead th {\n",
              "        text-align: right;\n",
              "    }\n",
              "</style>\n",
              "<table border=\"1\" class=\"dataframe\">\n",
              "  <thead>\n",
              "    <tr style=\"text-align: right;\">\n",
              "      <th></th>\n",
              "      <th>DateTime</th>\n",
              "      <th>Severity</th>\n",
              "      <th>EpochTime</th>\n",
              "      <th>Content</th>\n",
              "      <th>UUID</th>\n",
              "      <th>EventId</th>\n",
              "      <th>EventTemplate</th>\n",
              "    </tr>\n",
              "  </thead>\n",
              "  <tbody>\n",
              "    <tr>\n",
              "      <th>0</th>\n",
              "      <td>2024-12-17 17:32:16</td>\n",
              "      <td>INFO</td>\n",
              "      <td>2024-12-17 17:32:16</td>\n",
              "      <td>Starting ProductServiceApplication using Java ...</td>\n",
              "      <td>NaN</td>\n",
              "      <td>E2</td>\n",
              "      <td>Starting ProductServiceApplication using Java ...</td>\n",
              "    </tr>\n",
              "    <tr>\n",
              "      <th>1</th>\n",
              "      <td>2024-12-17 17:32:16</td>\n",
              "      <td>INFO</td>\n",
              "      <td>2024-12-17 17:32:16</td>\n",
              "      <td>No active profile set</td>\n",
              "      <td>NaN</td>\n",
              "      <td>E3</td>\n",
              "      <td>No active profile set</td>\n",
              "    </tr>\n",
              "    <tr>\n",
              "      <th>2</th>\n",
              "      <td>2024-12-17 17:32:16</td>\n",
              "      <td>DEBUG</td>\n",
              "      <td>2024-12-17 17:32:16</td>\n",
              "      <td>Loading source class com.projetmgl870.microser...</td>\n",
              "      <td>NaN</td>\n",
              "      <td>E4</td>\n",
              "      <td>Loading source class com.projetmgl870.microser...</td>\n",
              "    </tr>\n",
              "    <tr>\n",
              "      <th>3</th>\n",
              "      <td>2024-12-17 17:32:16</td>\n",
              "      <td>DEBUG</td>\n",
              "      <td>2024-12-17 17:32:16</td>\n",
              "      <td>Refreshing org.springframework.boot.web.servle...</td>\n",
              "      <td>NaN</td>\n",
              "      <td>E5</td>\n",
              "      <td>Refreshing &lt;*&gt;</td>\n",
              "    </tr>\n",
              "    <tr>\n",
              "      <th>4</th>\n",
              "      <td>2024-12-17 17:32:17</td>\n",
              "      <td>INFO</td>\n",
              "      <td>2024-12-17 17:32:17</td>\n",
              "      <td>Bootstrapping Spring Data MongoDB repositories...</td>\n",
              "      <td>NaN</td>\n",
              "      <td>E6</td>\n",
              "      <td>Bootstrapping Spring Data MongoDB repositories...</td>\n",
              "    </tr>\n",
              "  </tbody>\n",
              "</table>\n",
              "</div>\n",
              "    <div class=\"colab-df-buttons\">\n",
              "\n",
              "  <div class=\"colab-df-container\">\n",
              "    <button class=\"colab-df-convert\" onclick=\"convertToInteractive('df-be5b49f6-f1dc-4786-a536-9956ce4829c0')\"\n",
              "            title=\"Convert this dataframe to an interactive table.\"\n",
              "            style=\"display:none;\">\n",
              "\n",
              "  <svg xmlns=\"http://www.w3.org/2000/svg\" height=\"24px\" viewBox=\"0 -960 960 960\">\n",
              "    <path d=\"M120-120v-720h720v720H120Zm60-500h600v-160H180v160Zm220 220h160v-160H400v160Zm0 220h160v-160H400v160ZM180-400h160v-160H180v160Zm440 0h160v-160H620v160ZM180-180h160v-160H180v160Zm440 0h160v-160H620v160Z\"/>\n",
              "  </svg>\n",
              "    </button>\n",
              "\n",
              "  <style>\n",
              "    .colab-df-container {\n",
              "      display:flex;\n",
              "      gap: 12px;\n",
              "    }\n",
              "\n",
              "    .colab-df-convert {\n",
              "      background-color: #E8F0FE;\n",
              "      border: none;\n",
              "      border-radius: 50%;\n",
              "      cursor: pointer;\n",
              "      display: none;\n",
              "      fill: #1967D2;\n",
              "      height: 32px;\n",
              "      padding: 0 0 0 0;\n",
              "      width: 32px;\n",
              "    }\n",
              "\n",
              "    .colab-df-convert:hover {\n",
              "      background-color: #E2EBFA;\n",
              "      box-shadow: 0px 1px 2px rgba(60, 64, 67, 0.3), 0px 1px 3px 1px rgba(60, 64, 67, 0.15);\n",
              "      fill: #174EA6;\n",
              "    }\n",
              "\n",
              "    .colab-df-buttons div {\n",
              "      margin-bottom: 4px;\n",
              "    }\n",
              "\n",
              "    [theme=dark] .colab-df-convert {\n",
              "      background-color: #3B4455;\n",
              "      fill: #D2E3FC;\n",
              "    }\n",
              "\n",
              "    [theme=dark] .colab-df-convert:hover {\n",
              "      background-color: #434B5C;\n",
              "      box-shadow: 0px 1px 3px 1px rgba(0, 0, 0, 0.15);\n",
              "      filter: drop-shadow(0px 1px 2px rgba(0, 0, 0, 0.3));\n",
              "      fill: #FFFFFF;\n",
              "    }\n",
              "  </style>\n",
              "\n",
              "    <script>\n",
              "      const buttonEl =\n",
              "        document.querySelector('#df-be5b49f6-f1dc-4786-a536-9956ce4829c0 button.colab-df-convert');\n",
              "      buttonEl.style.display =\n",
              "        google.colab.kernel.accessAllowed ? 'block' : 'none';\n",
              "\n",
              "      async function convertToInteractive(key) {\n",
              "        const element = document.querySelector('#df-be5b49f6-f1dc-4786-a536-9956ce4829c0');\n",
              "        const dataTable =\n",
              "          await google.colab.kernel.invokeFunction('convertToInteractive',\n",
              "                                                    [key], {});\n",
              "        if (!dataTable) return;\n",
              "\n",
              "        const docLinkHtml = 'Like what you see? Visit the ' +\n",
              "          '<a target=\"_blank\" href=https://colab.research.google.com/notebooks/data_table.ipynb>data table notebook</a>'\n",
              "          + ' to learn more about interactive tables.';\n",
              "        element.innerHTML = '';\n",
              "        dataTable['output_type'] = 'display_data';\n",
              "        await google.colab.output.renderOutput(dataTable, element);\n",
              "        const docLink = document.createElement('div');\n",
              "        docLink.innerHTML = docLinkHtml;\n",
              "        element.appendChild(docLink);\n",
              "      }\n",
              "    </script>\n",
              "  </div>\n",
              "\n",
              "\n",
              "<div id=\"df-91236ce0-b4dd-4500-a148-c99b0e286972\">\n",
              "  <button class=\"colab-df-quickchart\" onclick=\"quickchart('df-91236ce0-b4dd-4500-a148-c99b0e286972')\"\n",
              "            title=\"Suggest charts\"\n",
              "            style=\"display:none;\">\n",
              "\n",
              "<svg xmlns=\"http://www.w3.org/2000/svg\" height=\"24px\"viewBox=\"0 0 24 24\"\n",
              "     width=\"24px\">\n",
              "    <g>\n",
              "        <path d=\"M19 3H5c-1.1 0-2 .9-2 2v14c0 1.1.9 2 2 2h14c1.1 0 2-.9 2-2V5c0-1.1-.9-2-2-2zM9 17H7v-7h2v7zm4 0h-2V7h2v10zm4 0h-2v-4h2v4z\"/>\n",
              "    </g>\n",
              "</svg>\n",
              "  </button>\n",
              "\n",
              "<style>\n",
              "  .colab-df-quickchart {\n",
              "      --bg-color: #E8F0FE;\n",
              "      --fill-color: #1967D2;\n",
              "      --hover-bg-color: #E2EBFA;\n",
              "      --hover-fill-color: #174EA6;\n",
              "      --disabled-fill-color: #AAA;\n",
              "      --disabled-bg-color: #DDD;\n",
              "  }\n",
              "\n",
              "  [theme=dark] .colab-df-quickchart {\n",
              "      --bg-color: #3B4455;\n",
              "      --fill-color: #D2E3FC;\n",
              "      --hover-bg-color: #434B5C;\n",
              "      --hover-fill-color: #FFFFFF;\n",
              "      --disabled-bg-color: #3B4455;\n",
              "      --disabled-fill-color: #666;\n",
              "  }\n",
              "\n",
              "  .colab-df-quickchart {\n",
              "    background-color: var(--bg-color);\n",
              "    border: none;\n",
              "    border-radius: 50%;\n",
              "    cursor: pointer;\n",
              "    display: none;\n",
              "    fill: var(--fill-color);\n",
              "    height: 32px;\n",
              "    padding: 0;\n",
              "    width: 32px;\n",
              "  }\n",
              "\n",
              "  .colab-df-quickchart:hover {\n",
              "    background-color: var(--hover-bg-color);\n",
              "    box-shadow: 0 1px 2px rgba(60, 64, 67, 0.3), 0 1px 3px 1px rgba(60, 64, 67, 0.15);\n",
              "    fill: var(--button-hover-fill-color);\n",
              "  }\n",
              "\n",
              "  .colab-df-quickchart-complete:disabled,\n",
              "  .colab-df-quickchart-complete:disabled:hover {\n",
              "    background-color: var(--disabled-bg-color);\n",
              "    fill: var(--disabled-fill-color);\n",
              "    box-shadow: none;\n",
              "  }\n",
              "\n",
              "  .colab-df-spinner {\n",
              "    border: 2px solid var(--fill-color);\n",
              "    border-color: transparent;\n",
              "    border-bottom-color: var(--fill-color);\n",
              "    animation:\n",
              "      spin 1s steps(1) infinite;\n",
              "  }\n",
              "\n",
              "  @keyframes spin {\n",
              "    0% {\n",
              "      border-color: transparent;\n",
              "      border-bottom-color: var(--fill-color);\n",
              "      border-left-color: var(--fill-color);\n",
              "    }\n",
              "    20% {\n",
              "      border-color: transparent;\n",
              "      border-left-color: var(--fill-color);\n",
              "      border-top-color: var(--fill-color);\n",
              "    }\n",
              "    30% {\n",
              "      border-color: transparent;\n",
              "      border-left-color: var(--fill-color);\n",
              "      border-top-color: var(--fill-color);\n",
              "      border-right-color: var(--fill-color);\n",
              "    }\n",
              "    40% {\n",
              "      border-color: transparent;\n",
              "      border-right-color: var(--fill-color);\n",
              "      border-top-color: var(--fill-color);\n",
              "    }\n",
              "    60% {\n",
              "      border-color: transparent;\n",
              "      border-right-color: var(--fill-color);\n",
              "    }\n",
              "    80% {\n",
              "      border-color: transparent;\n",
              "      border-right-color: var(--fill-color);\n",
              "      border-bottom-color: var(--fill-color);\n",
              "    }\n",
              "    90% {\n",
              "      border-color: transparent;\n",
              "      border-bottom-color: var(--fill-color);\n",
              "    }\n",
              "  }\n",
              "</style>\n",
              "\n",
              "  <script>\n",
              "    async function quickchart(key) {\n",
              "      const quickchartButtonEl =\n",
              "        document.querySelector('#' + key + ' button');\n",
              "      quickchartButtonEl.disabled = true;  // To prevent multiple clicks.\n",
              "      quickchartButtonEl.classList.add('colab-df-spinner');\n",
              "      try {\n",
              "        const charts = await google.colab.kernel.invokeFunction(\n",
              "            'suggestCharts', [key], {});\n",
              "      } catch (error) {\n",
              "        console.error('Error during call to suggestCharts:', error);\n",
              "      }\n",
              "      quickchartButtonEl.classList.remove('colab-df-spinner');\n",
              "      quickchartButtonEl.classList.add('colab-df-quickchart-complete');\n",
              "    }\n",
              "    (() => {\n",
              "      let quickchartButtonEl =\n",
              "        document.querySelector('#df-91236ce0-b4dd-4500-a148-c99b0e286972 button');\n",
              "      quickchartButtonEl.style.display =\n",
              "        google.colab.kernel.accessAllowed ? 'block' : 'none';\n",
              "    })();\n",
              "  </script>\n",
              "</div>\n",
              "\n",
              "    </div>\n",
              "  </div>\n"
            ],
            "application/vnd.google.colaboratory.intrinsic+json": {
              "type": "dataframe",
              "variable_name": "df",
              "summary": "{\n  \"name\": \"df\",\n  \"rows\": 94855,\n  \"fields\": [\n    {\n      \"column\": \"DateTime\",\n      \"properties\": {\n        \"dtype\": \"object\",\n        \"num_unique_values\": 14725,\n        \"samples\": [\n          \"2024-12-17 20:01:11\",\n          \"2024-12-18 03:26:10\",\n          \"2024-12-18 03:51:10\"\n        ],\n        \"semantic_type\": \"\",\n        \"description\": \"\"\n      }\n    },\n    {\n      \"column\": \"Severity\",\n      \"properties\": {\n        \"dtype\": \"category\",\n        \"num_unique_values\": 3,\n        \"samples\": [\n          \"INFO\",\n          \"DEBUG\",\n          \"WARN\"\n        ],\n        \"semantic_type\": \"\",\n        \"description\": \"\"\n      }\n    },\n    {\n      \"column\": \"EpochTime\",\n      \"properties\": {\n        \"dtype\": \"object\",\n        \"num_unique_values\": 14725,\n        \"samples\": [\n          \"2024-12-17 20:01:11\",\n          \"2024-12-18 03:26:10\",\n          \"2024-12-18 03:51:10\"\n        ],\n        \"semantic_type\": \"\",\n        \"description\": \"\"\n      }\n    },\n    {\n      \"column\": \"Content\",\n      \"properties\": {\n        \"dtype\": \"category\",\n        \"num_unique_values\": 9614,\n        \"samples\": [\n          \"Writing [[B@3848a6b9] as \\\"application/json\\\"\",\n          \"Writing [[B@2d06c8da] as \\\"application/json\\\"\",\n          \"Writing [[B@2799f2a7] as \\\"application/json\\\"\"\n        ],\n        \"semantic_type\": \"\",\n        \"description\": \"\"\n      }\n    },\n    {\n      \"column\": \"UUID\",\n      \"properties\": {\n        \"dtype\": \"number\",\n        \"std\": null,\n        \"min\": null,\n        \"max\": null,\n        \"num_unique_values\": 0,\n        \"samples\": [],\n        \"semantic_type\": \"\",\n        \"description\": \"\"\n      }\n    },\n    {\n      \"column\": \"EventId\",\n      \"properties\": {\n        \"dtype\": \"category\",\n        \"num_unique_values\": 62,\n        \"samples\": [],\n        \"semantic_type\": \"\",\n        \"description\": \"\"\n      }\n    },\n    {\n      \"column\": \"EventTemplate\",\n      \"properties\": {\n        \"dtype\": \"category\",\n        \"num_unique_values\": 62,\n        \"samples\": [],\n        \"semantic_type\": \"\",\n        \"description\": \"\"\n      }\n    }\n  ]\n}"
            }
          },
          "metadata": {},
          "execution_count": 90
        }
      ],
      "source": [
        "### Importation des bibliothèques générales que nous utiliserons dans ce notebook\n",
        "import numpy as np # algèbre linéaire\n",
        "import pandas as pd # traitement des données, I/O de fichier CSV (par ex. pd.read_csv)\n",
        "import seaborn as sns # bibliothèque de tracé qui utilise matplot\n",
        "import matplotlib.pyplot as plt # pour tracer certains paramètres dans seaborn\n",
        "from sklearn.neighbors import KNeighborsClassifier\n",
        "\n",
        "import pandas as pd\n",
        "from sklearn.model_selection import train_test_split\n",
        "from sklearn.ensemble import RandomForestClassifier\n",
        "from sklearn.linear_model import LogisticRegression\n",
        "from sklearn.metrics import accuracy_score, classification_report, roc_auc_score, roc_curve\n",
        "from sklearn.preprocessing import StandardScaler\n",
        "from sklearn.decomposition import PCA\n",
        "from sklearn.model_selection import train_test_split\n",
        "from sklearn.impute import SimpleImputer\n",
        "\n",
        "\n",
        "# Importer LabelEncoder depuis sklearn.preprocessing\n",
        "from sklearn.preprocessing import LabelEncoder\n",
        "from sklearn.preprocessing import StandardScaler\n",
        "from sklearn.model_selection import train_test_split\n",
        "from sklearn.ensemble import RandomForestClassifier\n",
        "from sklearn.linear_model import LogisticRegression\n",
        "from sklearn.metrics import accuracy_score, classification_report, roc_auc_score, roc_curve\n",
        "import pandas as pd\n",
        "\n",
        "# Importer\n",
        "\n",
        "import matplotlib.pyplot as plt\n",
        "import numpy as np\n",
        "\n",
        "\n",
        "\n",
        "\n",
        "# Chargement des données\n",
        "df = pd.read_csv('/content/drive/MyDrive/TP2MGL870/HDFS/log_structured.csv')\n",
        "\n",
        "\n",
        "\n",
        "df.head()"
      ]
    },
    {
      "cell_type": "code",
      "execution_count": null,
      "metadata": {
        "colab": {
          "base_uri": "https://localhost:8080/"
        },
        "collapsed": true,
        "id": "cHue8YNZ6h-E",
        "outputId": "60990efd-c767-4429-e4c9-a4ae108d53d1"
      },
      "outputs": [
        {
          "output_type": "stream",
          "name": "stdout",
          "text": [
            "                  DateTime  Severity            EpochTime  \\\n",
            "0      2024-12-17 17:32:16         0  2024-12-17 17:32:16   \n",
            "1      2024-12-17 17:32:16         0  2024-12-17 17:32:16   \n",
            "2      2024-12-17 17:32:16         1  2024-12-17 17:32:16   \n",
            "3      2024-12-17 17:32:16         1  2024-12-17 17:32:16   \n",
            "4      2024-12-17 17:32:17         0  2024-12-17 17:32:17   \n",
            "...                    ...       ...                  ...   \n",
            "94850  2024-12-20 08:42:39         1  2024-12-20 08:42:39   \n",
            "94851  2024-12-20 08:42:39         1  2024-12-20 08:42:39   \n",
            "94852  2024-12-20 08:42:39         1  2024-12-20 08:42:39   \n",
            "94853  2024-12-20 08:42:39         1  2024-12-20 08:42:39   \n",
            "94854  2024-12-20 08:42:39         1  2024-12-20 08:42:39   \n",
            "\n",
            "                                                 Content  UUID EventId  \\\n",
            "0      Starting ProductServiceApplication using Java ...   NaN      E2   \n",
            "1                                  No active profile set   NaN      E3   \n",
            "2      Loading source class com.projetmgl870.microser...   NaN      E4   \n",
            "3      Refreshing org.springframework.boot.web.servle...   NaN      E5   \n",
            "4      Bootstrapping Spring Data MongoDB repositories...   NaN      E6   \n",
            "...                                                  ...   ...     ...   \n",
            "94850                                   Completed 200 OK   NaN     E40   \n",
            "94851       HTTP POST http://localhost:9411/api/v2/spans   NaN     E41   \n",
            "94852                           Accept=[application/json   NaN     E42   \n",
            "94853        Writing [[B@2172f4e3] as \"application/json\"   NaN     E43   \n",
            "94854                              Response 202 ACCEPTED   NaN     E44   \n",
            "\n",
            "                                           EventTemplate  \n",
            "0      Starting ProductServiceApplication using Java ...  \n",
            "1                                  No active profile set  \n",
            "2      Loading source class com.projetmgl870.microser...  \n",
            "3                                         Refreshing <*>  \n",
            "4      Bootstrapping Spring Data MongoDB repositories...  \n",
            "...                                                  ...  \n",
            "94850                                   Completed 200 OK  \n",
            "94851       HTTP POST http://localhost:9411/api/v2/spans  \n",
            "94852                           Accept=[application/json  \n",
            "94853                  Writing <*> as \"application/json\"  \n",
            "94854                              Response 202 ACCEPTED  \n",
            "\n",
            "[94855 rows x 7 columns]\n"
          ]
        }
      ],
      "source": [
        "# 1. Preparation des donnees\n",
        "#Encodage des Étiquettes de Succès/Échec\n",
        "\n",
        "\n",
        "# Encodage de la colonne \"Label\"\n",
        "df['Severity'] = df['Severity'].map({'INFO': 0, 'DEBUG': 1,'WARN': 2})\n",
        "\n",
        "\n",
        "print(df)"
      ]
    },
    {
      "cell_type": "code",
      "execution_count": null,
      "metadata": {
        "colab": {
          "base_uri": "https://localhost:8080/"
        },
        "collapsed": true,
        "id": "DMWHUUDP7w-t",
        "outputId": "c79329be-ac79-44aa-863b-74da679201ef"
      },
      "outputs": [
        {
          "output_type": "stream",
          "name": "stdout",
          "text": [
            "Index(['DateTime', 'Severity', 'EpochTime', 'Content', 'UUID', 'EventId',\n",
            "       'EventTemplate'],\n",
            "      dtype='object')\n"
          ]
        }
      ],
      "source": [
        "# 2.\n",
        "print(df.columns)  # Affiche toutes les colonnes du DataFrame\n",
        "# print(df.dtypes)   # Affiche les types de chaque colonne\n",
        "\n"
      ]
    },
    {
      "cell_type": "code",
      "source": [
        "# 3. Vérifier s'il existe des valeurs manquantes\n",
        "\n",
        "# a. Utiliser isnull() et sum()\n",
        "missing_values = df.isnull().sum()\n",
        "print(\"Valeurs manquantes par colonne:\\n\", missing_values)\n",
        "\n",
        "# b. Utiliser heatmap() de seaborn\n",
        "print(\"\\nVisualisation des valeurs manquantes:\")\n",
        "sns.heatmap(df.isnull(), cbar=False, cmap=\"viridis\")\n",
        "plt.show()"
      ],
      "metadata": {
        "colab": {
          "base_uri": "https://localhost:8080/",
          "height": 717
        },
        "id": "3I_XUg8c7-r5",
        "outputId": "41d535ea-5e99-44a9-e20c-269a0e9cecf9",
        "collapsed": true
      },
      "execution_count": null,
      "outputs": [
        {
          "output_type": "stream",
          "name": "stdout",
          "text": [
            "Valeurs manquantes par colonne:\n",
            " DateTime             0\n",
            "Severity             0\n",
            "EpochTime            0\n",
            "Content              0\n",
            "UUID             94855\n",
            "EventId              0\n",
            "EventTemplate        0\n",
            "dtype: int64\n",
            "\n",
            "Visualisation des valeurs manquantes:\n"
          ]
        },
        {
          "output_type": "display_data",
          "data": {
            "text/plain": [
              "<Figure size 640x480 with 1 Axes>"
            ],
            "image/png": "[encoded data removed]"
          },
          "metadata": {}
        }
      ]
    },
    {
      "cell_type": "code",
      "source": [
        "# 4. Supprimer la colonne 'UUID'\n",
        "\n",
        "#df = df.drop(columns=['UUID'])\n",
        "# Afficher le DataFrame transformé\n",
        "print(df)"
      ],
      "metadata": {
        "colab": {
          "base_uri": "https://localhost:8080/"
        },
        "collapsed": true,
        "id": "VGSLdNLm4CW6",
        "outputId": "a07559dc-c7be-4507-da02-1d6c998302c2"
      },
      "execution_count": null,
      "outputs": [
        {
          "output_type": "stream",
          "name": "stdout",
          "text": [
            "                  DateTime  Severity            EpochTime  \\\n",
            "0      2024-12-17 17:32:16         0  2024-12-17 17:32:16   \n",
            "1      2024-12-17 17:32:16         0  2024-12-17 17:32:16   \n",
            "2      2024-12-17 17:32:16         1  2024-12-17 17:32:16   \n",
            "3      2024-12-17 17:32:16         1  2024-12-17 17:32:16   \n",
            "4      2024-12-17 17:32:17         0  2024-12-17 17:32:17   \n",
            "...                    ...       ...                  ...   \n",
            "94850  2024-12-20 08:42:39         1  2024-12-20 08:42:39   \n",
            "94851  2024-12-20 08:42:39         1  2024-12-20 08:42:39   \n",
            "94852  2024-12-20 08:42:39         1  2024-12-20 08:42:39   \n",
            "94853  2024-12-20 08:42:39         1  2024-12-20 08:42:39   \n",
            "94854  2024-12-20 08:42:39         1  2024-12-20 08:42:39   \n",
            "\n",
            "                                                 Content  UUID EventId  \\\n",
            "0      Starting ProductServiceApplication using Java ...   NaN      E2   \n",
            "1                                  No active profile set   NaN      E3   \n",
            "2      Loading source class com.projetmgl870.microser...   NaN      E4   \n",
            "3      Refreshing org.springframework.boot.web.servle...   NaN      E5   \n",
            "4      Bootstrapping Spring Data MongoDB repositories...   NaN      E6   \n",
            "...                                                  ...   ...     ...   \n",
            "94850                                   Completed 200 OK   NaN     E40   \n",
            "94851       HTTP POST http://localhost:9411/api/v2/spans   NaN     E41   \n",
            "94852                           Accept=[application/json   NaN     E42   \n",
            "94853        Writing [[B@2172f4e3] as \"application/json\"   NaN     E43   \n",
            "94854                              Response 202 ACCEPTED   NaN     E44   \n",
            "\n",
            "                                           EventTemplate  \n",
            "0      Starting ProductServiceApplication using Java ...  \n",
            "1                                  No active profile set  \n",
            "2      Loading source class com.projetmgl870.microser...  \n",
            "3                                         Refreshing <*>  \n",
            "4      Bootstrapping Spring Data MongoDB repositories...  \n",
            "...                                                  ...  \n",
            "94850                                   Completed 200 OK  \n",
            "94851       HTTP POST http://localhost:9411/api/v2/spans  \n",
            "94852                           Accept=[application/json  \n",
            "94853                  Writing <*> as \"application/json\"  \n",
            "94854                              Response 202 ACCEPTED  \n",
            "\n",
            "[94855 rows x 7 columns]\n"
          ]
        }
      ]
    },
    {
      "cell_type": "code",
      "execution_count": null,
      "metadata": {
        "colab": {
          "base_uri": "https://localhost:8080/",
          "height": 1000
        },
        "id": "p_OpDr3_E-co",
        "outputId": "1d29260d-6719-4e36-f549-4bd8336db1af",
        "collapsed": true
      },
      "outputs": [
        {
          "output_type": "stream",
          "name": "stdout",
          "text": [
            "              DateTime Severity            EpochTime  \\\n",
            "0  2024-12-17 17:32:16     INFO  2024-12-17 17:32:16   \n",
            "1  2024-12-17 17:32:16     INFO  2024-12-17 17:32:16   \n",
            "2  2024-12-17 17:32:16    DEBUG  2024-12-17 17:32:16   \n",
            "3  2024-12-17 17:32:16    DEBUG  2024-12-17 17:32:16   \n",
            "4  2024-12-17 17:32:17     INFO  2024-12-17 17:32:17   \n",
            "\n",
            "                                             Content  UUID EventId  \\\n",
            "0  Starting ProductServiceApplication using Java ...   NaN      E2   \n",
            "1                              No active profile set   NaN      E3   \n",
            "2  Loading source class com.projetmgl870.microser...   NaN      E4   \n",
            "3  Refreshing org.springframework.boot.web.servle...   NaN      E5   \n",
            "4  Bootstrapping Spring Data MongoDB repositories...   NaN      E6   \n",
            "\n",
            "                                       EventTemplate  \n",
            "0  Starting ProductServiceApplication using Java ...  \n",
            "1                              No active profile set  \n",
            "2  Loading source class com.projetmgl870.microser...  \n",
            "3                                     Refreshing <*>  \n",
            "4  Bootstrapping Spring Data MongoDB repositories...  \n",
            "Severity\n",
            "DEBUG    94729\n",
            "INFO       119\n",
            "WARN         7\n",
            "Name: count, dtype: int64\n",
            "EpochTime        object\n",
            "EventId          object\n",
            "EventTemplate    object\n",
            "dtype: object\n",
            "EpochTime        float64\n",
            "EventId          float64\n",
            "EventTemplate    float64\n",
            "dtype: object\n"
          ]
        },
        {
          "output_type": "display_data",
          "data": {
            "text/plain": [
              "<Figure size 800x800 with 1 Axes>"
            ],
            "image/png": "[encoded data removed]"
          },
          "metadata": {}
        },
        {
          "output_type": "display_data",
          "data": {
            "text/plain": [
              "<Figure size 1200x600 with 1 Axes>"
            ],
            "image/png": "[encoded data removed]"
          },
          "metadata": {}
        }
      ],
      "source": [
        "import numpy as np\n",
        "import pandas as pd\n",
        "import seaborn as sns\n",
        "import matplotlib.pyplot as plt\n",
        "\n",
        "# Chargement des données\n",
        "df = pd.read_csv('/content/drive/MyDrive/TP2MGL870/HDFS/log_structured.csv')\n",
        "\n",
        "# Vérification des données\n",
        "print(df.head())\n",
        "\n",
        "# 5. Analyse des distributions\n",
        "\n",
        "# Quelle est la distribution de la variable `Severity`?\n",
        "print(df['Severity'].value_counts())\n",
        "\n",
        "# Agréger les données par 'Severity'\n",
        "metrics_columns = [col for col in df.columns if col.startswith('E')]\n",
        "aggregated = df.groupby('Severity')[metrics_columns].sum()\n",
        "\n",
        "# Vérifier les types de données des colonnes de métriques\n",
        "print(aggregated.dtypes)\n",
        "\n",
        "# Convertir les colonnes en types numériques si nécessaire\n",
        "for col in metrics_columns:\n",
        "    aggregated[col] = pd.to_numeric(aggregated[col], errors='coerce')\n",
        "\n",
        "# Vérifier et imputer les valeurs manquantes\n",
        "aggregated = aggregated.fillna(0)\n",
        "\n",
        "# Vérifier les types de données après conversion\n",
        "print(aggregated.dtypes)\n",
        "\n",
        "# Calculer la répartition globale des `Severity`\n",
        "label_counts = df['Severity'].value_counts(normalize=True) * 100\n",
        "\n",
        "# Tracer le camembert pour les `Severity` avec des contours\n",
        "plt.figure(figsize=(8, 8))\n",
        "colors = sns.color_palette(\"tab20\", len(label_counts))  # Utiliser une palette de couleurs distinctes\n",
        "wedges, texts, autotexts = plt.pie(label_counts, labels=label_counts.index, autopct='%1.1f%%', startangle=140, colors=colors, wedgeprops={'edgecolor': 'black'})\n",
        "\n",
        "# Ajuster les propriétés des textes pour améliorer la lisibilité\n",
        "for text in texts:\n",
        "    text.set_fontsize(12)\n",
        "for autotext in autotexts:\n",
        "    autotext.set_fontsize(12)\n",
        "\n",
        "plt.title(\"Répartition des catégories de Severity\")\n",
        "plt.show()\n",
        "\n",
        "# Tracer un diagramme empilé pour les métriques par `Severity`\n",
        "aggregated.T.plot(kind='bar', stacked=True, figsize=(12, 6), colormap=\"tab20\")\n",
        "plt.title(\"Distribution des métriques par Severity\")\n",
        "plt.ylabel(\"Total des métriques\")\n",
        "plt.xlabel(\"Métriques (E1 à E49)\")\n",
        "plt.legend(title=\"Severity\", loc=\"upper left\", bbox_to_anchor=(1.0, 1.0))\n",
        "plt.tight_layout()\n",
        "plt.show()\n"
      ]
    },
    {
      "cell_type": "code",
      "execution_count": null,
      "metadata": {
        "id": "LMye03XO7Y4J",
        "colab": {
          "base_uri": "https://localhost:8080/"
        },
        "collapsed": true,
        "outputId": "16c8749a-8f91-48b0-f040-d0100de717db"
      },
      "outputs": [
        {
          "output_type": "stream",
          "name": "stdout",
          "text": [
            "              DateTime Severity            EpochTime  \\\n",
            "0  2024-12-17 17:32:16     INFO  2024-12-17 17:32:16   \n",
            "1  2024-12-17 17:32:16     INFO  2024-12-17 17:32:16   \n",
            "2  2024-12-17 17:32:16    DEBUG  2024-12-17 17:32:16   \n",
            "3  2024-12-17 17:32:16    DEBUG  2024-12-17 17:32:16   \n",
            "4  2024-12-17 17:32:17     INFO  2024-12-17 17:32:17   \n",
            "\n",
            "                                             Content  UUID EventId  \\\n",
            "0  Starting ProductServiceApplication using Java ...   NaN      E2   \n",
            "1                              No active profile set   NaN      E3   \n",
            "2  Loading source class com.projetmgl870.microser...   NaN      E4   \n",
            "3  Refreshing org.springframework.boot.web.servle...   NaN      E5   \n",
            "4  Bootstrapping Spring Data MongoDB repositories...   NaN      E6   \n",
            "\n",
            "                                       EventTemplate  \n",
            "0  Starting ProductServiceApplication using Java ...  \n",
            "1                              No active profile set  \n",
            "2  Loading source class com.projetmgl870.microser...  \n",
            "3                                     Refreshing <*>  \n",
            "4  Bootstrapping Spring Data MongoDB repositories...  \n",
            "EpochTime        object\n",
            "EventId          object\n",
            "EventTemplate    object\n",
            "dtype: object\n",
            "EpochTime        float64\n",
            "EventId          float64\n",
            "EventTemplate    float64\n",
            "dtype: object\n",
            "Severity         1.0\n",
            "EpochTime        NaN\n",
            "EventId          NaN\n",
            "EventTemplate    NaN\n",
            "Name: Severity, dtype: float64\n"
          ]
        }
      ],
      "source": [
        "# Importation des bibliothèques\n",
        "import numpy as np\n",
        "import pandas as pd\n",
        "import seaborn as sns\n",
        "import matplotlib.pyplot as plt\n",
        "from sklearn.preprocessing import StandardScaler, LabelEncoder\n",
        "\n",
        "# Chargement des données\n",
        "df = pd.read_csv('/content/drive/MyDrive/TP2MGL870/HDFS/log_structured.csv')\n",
        "\n",
        "# Vérification des données\n",
        "print(df.head())\n",
        "\n",
        "# Identifier les colonnes d'événements\n",
        "event_columns = [col for col in df.columns if col.startswith('E')]\n",
        "\n",
        "# Vérifier les types de données des colonnes d'événements\n",
        "print(df[event_columns].dtypes)\n",
        "\n",
        "# Convertir les colonnes en types numériques si nécessaire\n",
        "for col in event_columns:\n",
        "    df[col] = pd.to_numeric(df[col], errors='coerce')\n",
        "\n",
        "# Vérifier les types de données après conversion\n",
        "print(df[event_columns].dtypes)\n",
        "\n",
        "# Imputer les valeurs manquantes\n",
        "df[event_columns] = df[event_columns].fillna(0)\n",
        "\n",
        "# Standardisation des colonnes d'événements\n",
        "scaler = StandardScaler()\n",
        "df[event_columns] = scaler.fit_transform(df[event_columns])\n",
        "\n",
        "# Encoder les valeurs catégorielles de `Severity`\n",
        "label_encoder = LabelEncoder()\n",
        "df['Severity'] = label_encoder.fit_transform(df['Severity'])\n",
        "\n",
        "# Calcul de la matrice de corrélation\n",
        "correlation_matrix = df[event_columns + ['Severity']].corr()\n",
        "\n",
        "# Affichage des corrélations avec l'étiquette \"Severity\"\n",
        "correlation_with_label = correlation_matrix['Severity'].sort_values(ascending=False)\n",
        "print(correlation_with_label)\n"
      ]
    },
    {
      "cell_type": "code",
      "source": [
        "import seaborn as sns\n",
        "import matplotlib.pyplot as plt\n",
        "\n",
        "# Filtrer les colonnes numériques\n",
        "df_numeric = df.select_dtypes(include=[float, int])\n",
        "\n",
        "# Gérer les valeurs manquantes, ici on remplace les NaN par la moyenne\n",
        "df_filled = df_numeric.fillna(df_numeric.mean())\n",
        "\n",
        "# Calculer la matrice de corrélation\n",
        "corr_matrix = df_filled.corr()\n",
        "\n",
        "\n",
        "# Affichage de la matrice de corrélation\n",
        "print(corr_matrix)\n",
        "\n",
        "# Création de la heatmap\n",
        "plt.figure(figsize=(10, 8))\n",
        "sns.heatmap(corr_matrix, annot=True, fmt=\".2f\", cmap=\"coolwarm\", cbar=True)\n",
        "\n",
        "# Ajouter un titre\n",
        "plt.title(\"Matrice de corrélation\")\n",
        "plt.show()\n",
        "\n",
        "\n",
        "# Exemple de visualisation avec seaborn\n",
        "#plt.figure(figsize=(12, 8))\n",
        "#sns.heatmap(corr_matrix, annot=True, cmap=\"coolwarm\", fmt=\".2f\")\n",
        "#plt.title(\"Matrice de Corrélation\")\n",
        "#plt.show()\n",
        "\n"
      ],
      "metadata": {
        "colab": {
          "base_uri": "https://localhost:8080/",
          "height": 803
        },
        "id": "VYvcuW35wX3B",
        "outputId": "f20159fd-641e-4dac-b03b-749531a6626a"
      },
      "execution_count": null,
      "outputs": [
        {
          "output_type": "stream",
          "name": "stdout",
          "text": [
            "               Severity  EpochTime  UUID  EventId  EventTemplate\n",
            "Severity            1.0        NaN   NaN      NaN            NaN\n",
            "EpochTime           NaN        NaN   NaN      NaN            NaN\n",
            "UUID                NaN        NaN   NaN      NaN            NaN\n",
            "EventId             NaN        NaN   NaN      NaN            NaN\n",
            "EventTemplate       NaN        NaN   NaN      NaN            NaN\n"
          ]
        },
        {
          "output_type": "display_data",
          "data": {
            "text/plain": [
              "<Figure size 1000x800 with 2 Axes>"
            ],
            "image/png": "[encoded data removed]"
          },
          "metadata": {}
        }
      ]
    },
    {
      "cell_type": "code",
      "source": [
        "# Liste des colonnes à supprimer\n",
        "colonnes_a_supprimer = ['EpochTime','UUID','EventTemplate']\n",
        "\n",
        "# Supprimer les colonnes\n",
        "df = df.drop(columns=colonnes_a_supprimer)\n",
        "\n",
        "# Afficher les premières lignes pour vérifier\n",
        "print(df.head())\n",
        "\n",
        "# Sauvegarder le dataset modifié si nécessaire\n",
        "df.to_csv('/content/drive/MyDrive/TP2MGL870/HDFS/dataset_modifie.csv', index=False)\n"
      ],
      "metadata": {
        "colab": {
          "base_uri": "https://localhost:8080/"
        },
        "id": "FtsLQth22oYV",
        "outputId": "61c9cf3d-1ea6-4581-9fb7-035ae4172d8f"
      },
      "execution_count": null,
      "outputs": [
        {
          "output_type": "stream",
          "name": "stdout",
          "text": [
            "              DateTime  Severity  \\\n",
            "0  2024-12-17 17:32:16         1   \n",
            "1  2024-12-17 17:32:16         1   \n",
            "2  2024-12-17 17:32:16         0   \n",
            "3  2024-12-17 17:32:16         0   \n",
            "4  2024-12-17 17:32:17         1   \n",
            "\n",
            "                                             Content  EventId  \n",
            "0  Starting ProductServiceApplication using Java ...      0.0  \n",
            "1                              No active profile set      0.0  \n",
            "2  Loading source class com.projetmgl870.microser...      0.0  \n",
            "3  Refreshing org.springframework.boot.web.servle...      0.0  \n",
            "4  Bootstrapping Spring Data MongoDB repositories...      0.0  \n"
          ]
        }
      ]
    },
    {
      "cell_type": "code",
      "execution_count": null,
      "metadata": {
        "colab": {
          "base_uri": "https://localhost:8080/"
        },
        "id": "RwUKHTG0P8ZH",
        "outputId": "6e2ea5a6-3607-4c4f-e634-2689a38304a5",
        "collapsed": true
      },
      "outputs": [
        {
          "output_type": "stream",
          "name": "stdout",
          "text": [
            "   EventId\n",
            "0      0.0\n",
            "1      0.0\n",
            "2      0.0\n",
            "3      0.0\n",
            "4      0.0\n",
            "0    1\n",
            "1    1\n",
            "2    0\n",
            "3    0\n",
            "4    1\n",
            "Name: Severity, dtype: int64\n"
          ]
        }
      ],
      "source": [
        "# Importation des bibliothèques\n",
        "import pandas as pd\n",
        "\n",
        "# Chargement des données\n",
        "df = pd.read_csv('/content/drive/MyDrive/TP2MGL870/HDFS/dataset_modifie.csv')\n",
        "\n",
        "# Identifier les colonnes d'événements\n",
        "event_columns = [col for col in df.columns if col.startswith('E')]\n",
        "\n",
        "# Séparer les features (X) et la cible (y)\n",
        "X = df[event_columns]  # Utiliser uniquement les colonnes d'événements comme features\n",
        "y = df['Severity']  # Utiliser la colonne `Severity` comme cible\n",
        "\n",
        "# Vérifiez les données\n",
        "print(X.head())\n",
        "print(y.head())\n",
        "\n"
      ]
    },
    {
      "cell_type": "markdown",
      "source": [
        "# **Partie II: Construction du modèle**"
      ],
      "metadata": {
        "id": "F_CXKZOUHyFQ"
      }
    },
    {
      "cell_type": "code",
      "execution_count": null,
      "metadata": {
        "colab": {
          "base_uri": "https://localhost:8080/"
        },
        "id": "axdUNN-s7BjG",
        "outputId": "38e5cfe5-8dc0-4959-eb14-702264085912"
      },
      "outputs": [
        {
          "output_type": "stream",
          "name": "stdout",
          "text": [
            "Colonnes d'événements utilisées : ['Severity']\n",
            "Taille de l'ensemble d'entraînement : (53118, 1)\n",
            "Taille de l'ensemble de validation : (22766, 1)\n",
            "Taille de l'ensemble de test : (18971, 1)\n"
          ]
        }
      ],
      "source": [
        "# Importation des bibliothèques nécessaires\n",
        "import pandas as pd\n",
        "from sklearn.model_selection import train_test_split\n",
        "from sklearn.impute import SimpleImputer\n",
        "from sklearn.preprocessing import StandardScaler\n",
        "\n",
        "# Chargement des données\n",
        "df = pd.read_csv('/content/drive/MyDrive/TP2MGL870/HDFS/dataset_modifie.csv')\n",
        "\n",
        "# Étape 1 : Identifier les colonnes valides (événements) et exclure les colonnes non numériques\n",
        "event_columns = [col for col in df.columns if col.startswith('S') and col not in ['EpochTime', 'EventId', 'EventTemplate']]\n",
        "\n",
        "# Vérification des colonnes valides\n",
        "if not event_columns:\n",
        "    raise ValueError(\"Aucune colonne d'événement valide n'est disponible. Vérifiez vos données.\")\n",
        "else:\n",
        "    print(f\"Colonnes d'événements utilisées : {event_columns}\")\n",
        "\n",
        "# Caractéristiques et étiquette\n",
        "X = df[event_columns]  # Colonnes des événements numériques restantes\n",
        "if 'Severity' not in df.columns:\n",
        "    raise KeyError(\"La colonne 'Severity' est absente du DataFrame.\")\n",
        "y = df['Severity']  # L'étiquette de succès ou d'échec\n",
        "\n",
        "# Étape 2 : Diviser les données en ensembles d'entraînement, de validation et de test\n",
        "X_train_val, X_test, y_train_val, y_test = train_test_split(X, y, test_size=0.2, random_state=42)  # 20% pour le test\n",
        "X_train, X_val, y_train, y_val = train_test_split(X_train_val, y_train_val, test_size=0.3, random_state=42)  # 30% du reste pour la validation\n",
        "\n",
        "# Étape 3 : Imputer les valeurs manquantes par la moyenne\n",
        "imputer = SimpleImputer(strategy='mean')\n",
        "X_train = imputer.fit_transform(X_train)\n",
        "X_val = imputer.transform(X_val)\n",
        "X_test = imputer.transform(X_test)\n",
        "\n",
        "# Étape 4 : Standardisation des colonnes d'événements\n",
        "scaler = StandardScaler()\n",
        "X_train = scaler.fit_transform(X_train)\n",
        "X_val = scaler.transform(X_val)\n",
        "X_test = scaler.transform(X_test)\n",
        "\n",
        "# Étape 5 : Vérification des tailles des ensembles\n",
        "print(f\"Taille de l'ensemble d'entraînement : {X_train.shape}\")\n",
        "print(f\"Taille de l'ensemble de validation : {X_val.shape}\")\n",
        "print(f\"Taille de l'ensemble de test : {X_test.shape}\")\n"
      ]
    },
    {
      "cell_type": "code",
      "source": [
        "from sklearn.metrics import precision_score, recall_score, roc_auc_score, classification_report\n",
        "from sklearn.preprocessing import label_binarize\n",
        "\n",
        "# Fonction d'évaluation du modèle\n",
        "def evaluate_model(y_true, y_pred, model_name):\n",
        "    # Binariser les étiquettes pour ROC AUC\n",
        "    y_true_bin = label_binarize(y_true, classes=list(set(y_true)))\n",
        "    y_pred_bin = label_binarize(y_pred, classes=list(set(y_true)))\n",
        "\n",
        "    # Calculer les métriques\n",
        "    precision = precision_score(y_true, y_pred, average='weighted')\n",
        "    recall = recall_score(y_true, y_pred, average='weighted')\n",
        "    auc = roc_auc_score(y_true_bin, y_pred_bin, average='weighted', multi_class='ovr')\n",
        "\n",
        "    print(f\"{model_name} - Precision: {precision:.2f}, Recall: {recall:.2f}, AUC: {auc:.2f}\")\n",
        "    print(classification_report(y_true, y_pred))\n",
        "\n",
        "    return auc, precision, recall\n",
        "\n",
        "# Charger les modèles et évaluer\n",
        "# Supposons que lr est un modèle de régression logistique déjà entraîné\n",
        "\n",
        "# Prédictions pour l'ensemble de validation\n",
        "y_val_pred_lr = lr.predict(X_val)\n",
        "print(\"Résultats sur l'ensemble de validation pour Logistic Regression :\")\n",
        "auc_lr, precision_lr, recall_lr = evaluate_model(y_val, y_val_pred_lr, \"Logistic Regression\")\n",
        "\n",
        "# Évaluation sur l'ensemble de test\n",
        "y_test_pred_lr = lr.predict(X_test)\n",
        "print(\"Résultats sur l'ensemble de test pour Logistic Regression :\")\n",
        "auc_test_lr, precision_test_lr, recall_test_lr = evaluate_model(y_test, y_test_pred_lr, \"Logistic Regression\")\n",
        "\n"
      ],
      "metadata": {
        "colab": {
          "base_uri": "https://localhost:8080/"
        },
        "id": "IAE2aJlTcx-z",
        "outputId": "928d6560-fdc5-4194-97c7-a1d2339813a6"
      },
      "execution_count": null,
      "outputs": [
        {
          "output_type": "stream",
          "name": "stdout",
          "text": [
            "Résultats sur l'ensemble de validation pour Logistic Regression :\n",
            "Logistic Regression - Precision: 1.00, Recall: 1.00, AUC: 1.00\n",
            "              precision    recall  f1-score   support\n",
            "\n",
            "           0       1.00      1.00      1.00     22740\n",
            "           1       1.00      1.00      1.00        25\n",
            "           2       1.00      1.00      1.00         1\n",
            "\n",
            "    accuracy                           1.00     22766\n",
            "   macro avg       1.00      1.00      1.00     22766\n",
            "weighted avg       1.00      1.00      1.00     22766\n",
            "\n",
            "Résultats sur l'ensemble de test pour Logistic Regression :\n",
            "Logistic Regression - Precision: 1.00, Recall: 1.00, AUC: 1.00\n",
            "              precision    recall  f1-score   support\n",
            "\n",
            "           0       1.00      1.00      1.00     18944\n",
            "           1       1.00      1.00      1.00        27\n",
            "\n",
            "    accuracy                           1.00     18971\n",
            "   macro avg       1.00      1.00      1.00     18971\n",
            "weighted avg       1.00      1.00      1.00     18971\n",
            "\n"
          ]
        }
      ]
    },
    {
      "cell_type": "code",
      "execution_count": null,
      "metadata": {
        "id": "ybgZnG3n9ALe",
        "colab": {
          "base_uri": "https://localhost:8080/"
        },
        "outputId": "b182e132-a36c-4973-f03c-493661a072ba"
      },
      "outputs": [
        {
          "output_type": "stream",
          "name": "stdout",
          "text": [
            "Meilleurs paramètres pour Random Forest : {'max_depth': None, 'min_samples_split': 2, 'n_estimators': 50}\n"
          ]
        }
      ],
      "source": [
        "#Optimisation des hyperparametres\n",
        "\n",
        "from sklearn.model_selection import GridSearchCV\n",
        "\n",
        "# Exemple pour Random Forest\n",
        "param_grid = {\n",
        "    'n_estimators': [50, 100, 200],\n",
        "    'max_depth': [None, 10, 20],\n",
        "    'min_samples_split': [2, 5]\n",
        "}\n",
        "\n",
        "grid_search = GridSearchCV(RandomForestClassifier(random_state=42), param_grid, cv=3)\n",
        "grid_search.fit(X_train, y_train)\n",
        "\n",
        "print(\"Meilleurs paramètres pour Random Forest :\", grid_search.best_params_)\n"
      ]
    },
    {
      "cell_type": "markdown",
      "source": [
        "# **Partie III: Interprétation du modèle AiOPs**"
      ],
      "metadata": {
        "id": "FDqLTT0squTV"
      }
    },
    {
      "cell_type": "code",
      "source": [
        "\n",
        "# Importation des bibliothèques nécessaires\n",
        "import pandas as pd\n",
        "import numpy as np\n",
        "import matplotlib.pyplot as plt\n",
        "from sklearn.model_selection import train_test_split\n",
        "from sklearn.impute import SimpleImputer\n",
        "from sklearn.preprocessing import StandardScaler, LabelEncoder\n",
        "from sklearn.ensemble import RandomForestClassifier\n",
        "\n",
        "# Chargement des données\n",
        "df = pd.read_csv('/content/drive/MyDrive/TP2MGL870/HDFS/dataset_modifie.csv')\n",
        "\n",
        "# Étape 1 : Identifier les colonnes valides (événements) et exclure les colonnes non numériques\n",
        "event_columns = [col for col in df.columns if col.startswith('S') and col not in ['EpochTime', 'EventId', 'EventTemplate']]\n",
        "\n",
        "# Vérification des colonnes valides\n",
        "if not event_columns:\n",
        "    raise ValueError(\"Aucune colonne d'événement valide n'est disponible. Vérifiez vos données.\")\n",
        "else:\n",
        "    print(f\"Colonnes d'événements utilisées : {event_columns}\")\n",
        "\n",
        "# Caractéristiques et étiquette\n",
        "X = df[event_columns]  # Colonnes des événements numériques restantes\n",
        "if 'Severity' not in df.columns:\n",
        "    raise KeyError(\"La colonne 'Severity' est absente du DataFrame.\")\n",
        "y = df['Severity']  # L'étiquette de succès ou d'échec\n",
        "\n",
        "# Encoder les valeurs catégorielles de `Severity`\n",
        "label_encoder = LabelEncoder()\n",
        "y = label_encoder.fit_transform(y)\n",
        "\n",
        "# Étape 2 : Diviser les données en ensembles d'entraînement, de validation et de test\n",
        "X_train_val, X_test, y_train_val, y_test = train_test_split(X, y, test_size=0.2, random_state=42)  # 20% pour le test\n",
        "X_train, X_val, y_train, y_val = train_test_split(X_train_val, y_train_val, test_size=0.3, random_state=42)  # 30% du reste pour la validation\n",
        "\n",
        "# Étape 3 : Imputer les valeurs manquantes par la moyenne\n",
        "imputer = SimpleImputer(strategy='mean')\n",
        "X_train = imputer.fit_transform(X_train)\n",
        "X_val = imputer.transform(X_val)\n",
        "X_test = imputer.transform(X_test)\n",
        "\n",
        "# Étape 4 : Standardisation des colonnes d'événements\n",
        "scaler = StandardScaler()\n",
        "X_train = scaler.fit_transform(X_train)\n",
        "X_val = scaler.transform(X_val)\n",
        "X_test = scaler.transform(X_test)\n",
        "\n",
        "# Étape 5 : Vérification des tailles des ensembles\n",
        "print(f\"Taille de l'ensemble d'entraînement : {X_train.shape}\")\n",
        "print(f\"Taille de l'ensemble de validation : {X_val.shape}\")\n",
        "print(f\"Taille de l'ensemble de test : {X_test.shape}\")\n",
        "\n",
        "# Entraîner le modèle RandomForestClassifier\n",
        "rf = RandomForestClassifier(random_state=42)\n",
        "rf.fit(X_train, y_train)\n",
        "\n",
        "# Importance des caractéristiques\n",
        "feature_importance = rf.feature_importances_\n",
        "indices = np.argsort(feature_importance)[::-1]  # Tri des variables par ordre décroissant\n",
        "features = X.columns  # Utiliser les colonnes de X pour les caractéristiques\n",
        "\n",
        "# Affichage des 10 variables les plus importantes\n",
        "plt.figure(figsize=(10, 6))\n",
        "plt.barh(features[indices][:10], feature_importance[indices][:10])\n",
        "plt.xlabel('Importance')\n",
        "plt.title('Variables les plus importantes pour Random Forest')\n",
        "plt.show()\n",
        "\n"
      ],
      "metadata": {
        "colab": {
          "base_uri": "https://localhost:8080/",
          "height": 633
        },
        "id": "5wEg7gUpmKeZ",
        "outputId": "557cca29-3ca7-4439-9be6-b29ffc10014c"
      },
      "execution_count": null,
      "outputs": [
        {
          "output_type": "stream",
          "name": "stdout",
          "text": [
            "Colonnes d'événements utilisées : ['Severity']\n",
            "Taille de l'ensemble d'entraînement : (53118, 1)\n",
            "Taille de l'ensemble de validation : (22766, 1)\n",
            "Taille de l'ensemble de test : (18971, 1)\n"
          ]
        },
        {
          "output_type": "display_data",
          "data": {
            "text/plain": [
              "<Figure size 1000x600 with 1 Axes>"
            ],
            "image/png": "[encoded data removed]"
          },
          "metadata": {}
        }
      ]
    }
  ],
  "metadata": {
    "colab": {
      "provenance": [],
      "name": "PROJETMGl870.ipynb",
      "authorship_tag": "ABX9TyMl+TCbZmrmAFpHoOZKeBA0",
      "include_colab_link": true
    },
    "kernelspec": {
      "display_name": "Python 3",
      "name": "python3"
    },
    "language_info": {
      "name": "python"
    }
  },
  "nbformat": 4,
  "nbformat_minor": 0
}